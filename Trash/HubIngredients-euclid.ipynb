{
 "cells": [
  {
   "cell_type": "code",
   "execution_count": 22,
   "metadata": {},
   "outputs": [],
   "source": [
    "import numpy as np\n",
    "from matplotlib import pyplot as plt\n",
    "import os\n",
    "\n",
    "from scipy.optimize import minimize  "
   ]
  },
  {
   "cell_type": "code",
   "execution_count": 23,
   "metadata": {},
   "outputs": [
    {
     "name": "stdout",
     "output_type": "stream",
     "text": [
      "(4, 14, 3, 6)\n",
      "(5, 14, 3, 6)\n"
     ]
    }
   ],
   "source": [
    "repodir='/Users/aidasaglinskas/Desktop/BC-Hubs-MentingFang/'\n",
    "\n",
    "\n",
    "fn = os.path.join(repodir,'Hub_vec_eculid.npy')\n",
    "hub = np.load(fn)\n",
    "\n",
    "fn = os.path.join(repodir,'ROI_vec_eculid.npy')\n",
    "roi = np.load(fn)\n",
    "\n",
    "print(roi.shape)\n",
    "print(hub.shape)"
   ]
  },
  {
   "cell_type": "code",
   "execution_count": 24,
   "metadata": {},
   "outputs": [],
   "source": [
    "# 14 Subjects \n",
    "# 5 HUBS\n",
    "# 4 ROIs\n",
    "# 3 runs\n",
    "# 6 triu \n",
    "\n",
    "#[0][1] # Face-Body\n",
    "#[1][2] # Body-Object\n",
    "#[2][3] # Object-Scene\n",
    "#[1][3] # Body-Scene\n",
    "#[0][3] # Face-Scene\n",
    "#[0][2] # Face-Object"
   ]
  },
  {
   "cell_type": "code",
   "execution_count": 25,
   "metadata": {},
   "outputs": [
    {
     "name": "stdout",
     "output_type": "stream",
     "text": [
      "     fun: 1.2553938110182162e-14\n",
      "     jac: array([3.57932422e-06, 4.18896771e-07])\n",
      " message: 'Optimization terminated successfully.'\n",
      "    nfev: 16\n",
      "     nit: 3\n",
      "    njev: 3\n",
      "  status: 0\n",
      " success: True\n",
      "       x: array([4.99999999, 2.00000006])\n"
     ]
    }
   ],
   "source": [
    "#%% Simple Linear Regression Optimisation\n",
    "def f(x):\n",
    "    true_a = 5\n",
    "    true_c = 2\n",
    "    y = (true_a*x)+true_c\n",
    "    return y\n",
    "\n",
    "x = np.array(range(0,10))\n",
    "y = np.array([f(i) for i in x])\n",
    "\n",
    "#params = [5,2]\n",
    "def objective(params):\n",
    "    a_hat = params[0]\n",
    "    c_hat = params[1]\n",
    "    \n",
    "    y_hat = x*a_hat+c_hat\n",
    "    err = y_hat-y\n",
    "    err = np.sum(err**2)\n",
    "    return err\n",
    "    \n",
    "initGuess = [0,0] # Initialize parameters\n",
    "sol = minimize(objective,initGuess,method='SLSQP') \n",
    "print(sol)"
   ]
  },
  {
   "cell_type": "code",
   "execution_count": 26,
   "metadata": {},
   "outputs": [
    {
     "name": "stdout",
     "output_type": "stream",
     "text": [
      "     fun: 2.5227358982626225e-12\n",
      "     jac: array([ 6.17094997e-09, -2.42562237e-09, -1.46471848e-08,  1.12958389e-08,\n",
      "       -1.46611399e-08])\n",
      " message: 'Optimization terminated successfully.'\n",
      "    nfev: 70\n",
      "     nit: 8\n",
      "    njev: 8\n",
      "  status: 0\n",
      " success: True\n",
      "       x: array([5.00000176, 0.99999996, 1.99999995, 2.99999997, 3.99999996])\n"
     ]
    }
   ],
   "source": [
    "#%% Multiple Regression\n",
    "def f(xs):\n",
    "    \n",
    "    b0 = 5\n",
    "    b = [1,2,3,4]\n",
    "    \n",
    "    Y = b0 + b[0]*xs[0] + b[1]*xs[1] + b[2]*xs[2] + b[3]*xs[3]  # + np.random.randn()\n",
    "    \n",
    "    return Y\n",
    "\n",
    "\n",
    "X = np.array([np.random.randint(20) for i in range(4)])\n",
    "Y = np.array(f(X))\n",
    "\n",
    "for i in range(14):\n",
    "    xs = np.array([np.random.randint(20) for i in range(4)])\n",
    "    y = np.array(f(xs))\n",
    "    \n",
    "    X = np.vstack((X,xs))\n",
    "    Y = np.append(Y,y)\n",
    "    \n",
    "params = [4,1,2,3,4]\n",
    "def objective(params):\n",
    "    \n",
    "    b0 = params[0]\n",
    "    b = params[1:]\n",
    "\n",
    "    y_hat = b0 + X[:,0]*b[0] + X[:,1]*b[1] + X[:,2]*b[2] + X[:,3]*b[3]\n",
    "    \n",
    "    err = Y-y_hat\n",
    "    sum_sq = np.sum(err**2)\n",
    "    \n",
    "    return sum_sq\n",
    "\n",
    "\n",
    "initGuess = [0,1,2,3,4]\n",
    "sol = minimize(objective,initGuess,method='SLSQP') \n",
    "print(sol)"
   ]
  },
  {
   "cell_type": "code",
   "execution_count": 27,
   "metadata": {},
   "outputs": [],
   "source": [
    "#fn = '/Users/aidasaglinskas/Desktop/MentingFang/Hub_vec.npy'\n",
    "#hub = np.load(fn)\n",
    "\n",
    "#fn = '/Users/aidasaglinskas/Desktop/MentingFang/ROI_vec.npy'\n",
    "#roi = np.load(fn)\n",
    "\n",
    "hub.shape\n",
    "roi.shape\n",
    "\n",
    "rlbls = ['roi 1','roi 2','roi 3','roi 4']\n",
    "rlbls = ['FACE','BODY','OBJECT','SCENE']\n",
    "\n",
    "hlbls = ['hub 1','hub 2','hub 3','hub 4','hub 5']\n",
    "hlbls = ['Thalamus', 'Middle Cingulate', 'Posterior Cingulate', 'Angular Gyrus', 'Cerebellum']"
   ]
  },
  {
   "cell_type": "code",
   "execution_count": 28,
   "metadata": {},
   "outputs": [],
   "source": [
    "def get_X_matrix(roi_ind,run_ind):\n",
    "#    roi_ind = 0\n",
    "#    run_ind = 0\n",
    "    X = np.zeros([14,6])\n",
    "    for subject in range(roi.shape[1]):\n",
    "        for dist in range(roi.shape[3]):\n",
    "            X[subject,dist] = roi[roi_ind,subject,run_ind,dist]\n",
    "    return X\n",
    "\n",
    "def get_Y_matrix(hub_ind,run_ind):\n",
    "#    hub_ind = 0\n",
    "#    run_ind = 0\n",
    "    Y = np.zeros([14,6])\n",
    "    for subject in range(hub.shape[1]):\n",
    "        for dist in range(roi.shape[3]):\n",
    "            Y[subject,dist] = hub[hub_ind,subject,run_ind,dist]\n",
    "    return Y"
   ]
  },
  {
   "cell_type": "code",
   "execution_count": 29,
   "metadata": {},
   "outputs": [],
   "source": [
    "def optimal_betas(hub_ind,run_ind):\n",
    "    X1,X2,X3,X4 = [get_X_matrix(0,run_ind),get_X_matrix(1,run_ind),get_X_matrix(2,run_ind),get_X_matrix(3,run_ind)]\n",
    "    Y = np.array(get_Y_matrix(hub_ind,run_ind))\n",
    "    \n",
    "    params = np.array([1,2,3,4,5])\n",
    "    def objective(params):\n",
    "        b0 = params[0]\n",
    "        b = params[1:] # from 1 to end\n",
    "        #params[0] = 0\n",
    "        Y_hat = params[0] + X1*params[1] + X2*params[2] + X3*params[3] + X4*params[4]\n",
    "        err = Y-Y_hat\n",
    "        sum_sq = np.sum(err**2)\n",
    "        return sum_sq\n",
    "    \n",
    "    \n",
    "    initGuess = [10,10,10,10,10]\n",
    "    sol = minimize(objective,initGuess,method='SLSQP') \n",
    "    #print(sol.success)\n",
    "    #print(sol.fun)\n",
    "    #print(sol.x)\n",
    "\n",
    "    return sol.x"
   ]
  },
  {
   "cell_type": "code",
   "execution_count": null,
   "metadata": {},
   "outputs": [],
   "source": []
  },
  {
   "cell_type": "code",
   "execution_count": null,
   "metadata": {},
   "outputs": [],
   "source": []
  },
  {
   "cell_type": "code",
   "execution_count": 30,
   "metadata": {
    "scrolled": false
   },
   "outputs": [
    {
     "data": {
      "image/png": "[encoded data removed]",
      "text/plain": [
       "<Figure size 432x288 with 1 Axes>"
      ]
     },
     "metadata": {
      "needs_background": "light"
     },
     "output_type": "display_data"
    },
    {
     "data": {
      "image/png": "[encoded data removed]",
      "text/plain": [
       "<Figure size 432x288 with 1 Axes>"
      ]
     },
     "metadata": {
      "needs_background": "light"
     },
     "output_type": "display_data"
    },
    {
     "data": {
      "image/png": "[encoded data removed]",
      "text/plain": [
       "<Figure size 432x288 with 1 Axes>"
      ]
     },
     "metadata": {
      "needs_background": "light"
     },
     "output_type": "display_data"
    },
    {
     "data": {
      "image/png": "[encoded data removed]",
      "text/plain": [
       "<Figure size 432x288 with 1 Axes>"
      ]
     },
     "metadata": {
      "needs_background": "light"
     },
     "output_type": "display_data"
    },
    {
     "data": {
      "image/png": "[encoded data removed]",
      "text/plain": [
       "<Figure size 432x288 with 1 Axes>"
      ]
     },
     "metadata": {
      "needs_background": "light"
     },
     "output_type": "display_data"
    }
   ],
   "source": [
    "from matplotlib import pyplot as plt\n",
    "\n",
    "for hub_ind in range(5):\n",
    "    betas = optimal_betas(hub_ind,0)\n",
    "    betas = np.vstack((betas,optimal_betas(hub_ind,1)))\n",
    "    betas = np.vstack((betas,optimal_betas(hub_ind,2)))\n",
    "    #print(betas.shape)\n",
    "\n",
    "    m = np.mean(betas,axis=0)\n",
    "    m = m[1:]\n",
    "    sd = np.std(betas,axis=0)\n",
    "    sd = sd[1:] /np.sqrt(3)\n",
    "    \n",
    "    fig, axs = plt.subplots()\n",
    "    plt.bar([1,2,3,4],m)\n",
    "    #plt.hold\n",
    "    plt.errorbar([1,2,3,4],y=m,yerr=sd,fmt='none',ecolor='r')\n",
    "    plt.title(hlbls[hub_ind])\n",
    "    axs.xaxis.set_ticks([1,2,3,4])\n",
    "    axs.xaxis.set_ticklabels(rlbls)\n",
    "    plt.show"
   ]
  },
  {
   "cell_type": "code",
   "execution_count": 31,
   "metadata": {},
   "outputs": [
    {
     "name": "stdout",
     "output_type": "stream",
     "text": [
      "True\n",
      "-2290235158238.2773\n",
      "[  -729628.34153852 -42436217.80318509 -37302200.51878435\n",
      " -28056416.38342848 -48908834.400281  ]\n"
     ]
    }
   ],
   "source": [
    "# Across subs,runs,and Triu simultaneusly Y = 3dmatrix(subj,runs,triu)*beta\n",
    "hub_ind = 0\n",
    "\n",
    "hub.shape\n",
    "roi.shape\n",
    "\n",
    "#roi = roi-np.mean(roi,2,keepdims=True)\n",
    "#hub = hub-np.mean(hub,2,keepdims=True)\n",
    "\n",
    "#roi = roi-np.mean(roi,1,keepdims=True)\n",
    "#hub = hub-np.mean(hub,1,keepdims=True)\n",
    "\n",
    "#roi = roi-np.mean(roi,0,keepdims=True)\n",
    "#hub = hub-np.mean(hub,0,keepdims=True)\n",
    "\n",
    "def objective(params):\n",
    "    b0 = params[0]\n",
    "    b = params[1:]\n",
    "    #b0=0\n",
    "    y_hat = b0 + roi[0,:,:,:]*b[0] + roi[1,:,:,:]*b[1] + roi[2,:,:,:]*b[2] + roi[3,:,:,:]*b[3]\n",
    "    y = hub[hub_ind,:,:,:]\n",
    "    err = np.sum(y_hat-y**2)\n",
    "    \n",
    "    return err\n",
    "\n",
    "initGuess = [2,2,2,2,2]\n",
    "sol = minimize(objective,initGuess,method='SLSQP') \n",
    "print(sol.success)\n",
    "print(sol.fun)\n",
    "print(sol.x)"
   ]
  },
  {
   "cell_type": "code",
   "execution_count": null,
   "metadata": {},
   "outputs": [],
   "source": []
  },
  {
   "cell_type": "code",
   "execution_count": null,
   "metadata": {},
   "outputs": [],
   "source": []
  },
  {
   "cell_type": "code",
   "execution_count": null,
   "metadata": {},
   "outputs": [],
   "source": []
  },
  {
   "cell_type": "code",
   "execution_count": null,
   "metadata": {},
   "outputs": [],
   "source": []
  }
 ],
 "metadata": {
  "kernelspec": {
   "display_name": "Python 3",
   "language": "python",
   "name": "python3"
  },
  "language_info": {
   "codemirror_mode": {
    "name": "ipython",
    "version": 3
   },
   "file_extension": ".py",
   "mimetype": "text/x-python",
   "name": "python",
   "nbconvert_exporter": "python",
   "pygments_lexer": "ipython3",
   "version": "3.7.4"
  }
 },
 "nbformat": 4,
 "nbformat_minor": 2
}
